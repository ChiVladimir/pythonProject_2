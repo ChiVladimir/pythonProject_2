{
  "nbformat": 4,
  "nbformat_minor": 0,
  "metadata": {
    "colab": {
      "provenance": [],
      "include_colab_link": true
    },
    "kernelspec": {
      "name": "python3",
      "display_name": "Python 3"
    },
    "language_info": {
      "name": "python"
    }
  },
  "cells": [
    {
      "cell_type": "markdown",
      "metadata": {
        "id": "view-in-github",
        "colab_type": "text"
      },
      "source": [
        "<a href=\"https://colab.research.google.com/github/ChiVladimir/pythonProject_2/blob/master/%D0%9A%D0%BE%D0%BF%D0%B8%D1%8F_%D0%B1%D0%BB%D0%BE%D0%BA%D0%BD%D0%BE%D1%82%D0%B0_%22%D0%9E%D1%81%D0%BD%D0%BE%D0%B2%D0%BD%D1%8B%D0%B5_%D0%BA%D0%BE%D0%BD%D1%86%D0%B5%D0%BF%D1%86%D0%B8%D0%B8_%D0%B8_%D1%82%D0%B5%D1%80%D0%BC%D0%B8%D0%BD%D0%BE%D0%BB%D0%BE%D0%B3%D0%B8%D1%8F_%D0%98%D0%98_%D0%94_%D0%97_ipynb%22.ipynb\" target=\"_parent\"><img src=\"https://colab.research.google.com/assets/colab-badge.svg\" alt=\"Open In Colab\"/></a>"
      ]
    },
    {
      "cell_type": "markdown",
      "source": [
        "# Домашнее задание\n",
        "\n",
        "Ознакомьтесь с приведёнными ниже примерами использования алгоритмов МО и НС для решения задачи распознавания рукописных цифр.\n",
        "\n",
        "## Порядок выполнения ДЗ\n",
        "\n",
        "1. Сделайте копию данного блокнота себе на диск. Далее работайте со своей копией блокнота. Сохраняйте вносимые в неё изменения.\n",
        "2. Ознакомьтесь с теоретическим текстом и кодом из настоящего блокнота.\n",
        "3. Перенесите примеры кода в отдельные кодовые ячейки и выполните их.\n",
        "4. Создайте тестовую ячейку, куда запишите ответы на теоретические вопросы.\n",
        "5. Расшарьте блокнот и используйте ссылку как ответ на ДЗ."
      ],
      "metadata": {
        "id": "SeivPBkJjNUr"
      }
    },
    {
      "cell_type": "markdown",
      "source": [
        "### Учебный пример: Рещение задачи классификация рукописных цифр с использованием машинного обучения, глубокого обучения и нейронных сетей\n",
        "\n",
        "В этом задании мы будем использовать набор данных MNIST, который содержит изображения рукописных цифр (от 0 до 9). Мы реализуем три различных подхода к классификации этих изображений:\n",
        "\n",
        "1. **Машинное обучение**: Используем метод k-ближайших соседей (k-NN).\n",
        "2. **Глубокое обучение**: Используем многослойный перцептрон (MLP).\n",
        "3. **Нейронные сети**: Используем сверточную нейронную сеть (CNN).\n",
        "\n",
        "### Шаг 1: Установка библиотек\n",
        "\n",
        "Установите необходимые библиотеки:\n",
        "\n",
        "```bash\n",
        "pip install numpy pandas scikit-learn tensorflow keras\n",
        "```\n",
        "\n",
        "### Шаг 2: Загрузка и предобработка данных\n",
        "\n",
        "```python\n",
        "import numpy as np\n",
        "from sklearn.model_selection import train_test_split\n",
        "from sklearn.datasets import fetch_openml\n",
        "from sklearn.preprocessing import StandardScaler\n",
        "from tensorflow.keras.utils import to_categorical\n",
        "\n",
        "# Загрузка данных MNIST\n",
        "mnist = fetch_openml('mnist_784', version=1)\n",
        "X, y = mnist.data / 255.0, mnist.target.astype(int)\n",
        "\n",
        "# Разделение данных на обучающую и тестовую выборки\n",
        "X_train, X_test, y_train, y_test = train_test_split(X, y, test_size=0.2, random_state=42)\n",
        "```\n",
        "\n",
        "### Шаг 3: Алгоритм машинного обучения (k-NN)\n",
        "\n",
        "```python\n",
        "from sklearn.neighbors import KNeighborsClassifier\n",
        "from sklearn.metrics import accuracy_score\n",
        "\n",
        "# Создание и обучение модели k-NN\n",
        "knn = KNeighborsClassifier(n_neighbors=3)\n",
        "knn.fit(X_train, y_train)\n",
        "\n",
        "# Прогнозирование на тестовой выборке\n",
        "y_pred_knn = knn.predict(X_test)\n",
        "accuracy_knn = accuracy_score(y_test, y_pred_knn)\n",
        "\n",
        "print(f'Accuracy of k-NN: {accuracy_knn:.4f}')\n",
        "```\n",
        "\n",
        "### Шаг 4: Глубокое обучение (MLP)\n",
        "\n",
        "```python\n",
        "from tensorflow.keras.models import Sequential\n",
        "from tensorflow.keras.layers import Dense, Flatten\n",
        "\n",
        "# Предобработка меток для MLP\n",
        "y_train_mlp = to_categorical(y_train, 10)\n",
        "y_test_mlp = to_categorical(y_test, 10)\n",
        "\n",
        "# Создание модели MLP\n",
        "model_mlp = Sequential([\n",
        "    Flatten(input_shape=(784,)),\n",
        "    Dense(128, activation='relu'),\n",
        "    Dense(64, activation='relu'),\n",
        "    Dense(10, activation='softmax')\n",
        "])\n",
        "\n",
        "# Компиляция и обучение модели MLP\n",
        "model_mlp.compile(optimizer='adam', loss='categorical_crossentropy', metrics=['accuracy'])\n",
        "model_mlp.fit(X_train, y_train_mlp, epochs=10, batch_size=32, validation_split=0.2)\n",
        "\n",
        "# Оценка модели на тестовой выборке\n",
        "loss_mlp, accuracy_mlp = model_mlp.evaluate(X_test, y_test_mlp)\n",
        "\n",
        "print(f'Accuracy of MLP: {accuracy_mlp:.4f}')\n",
        "```\n",
        "\n",
        "### Шаг 5: Нейронные сети (CNN)\n",
        "\n",
        "```python\n",
        "from tensorflow.keras.layers import Conv2D, MaxPooling2D, Dropout\n",
        "\n",
        "# Предобработка данных для CNN\n",
        "X_train_cnn = X_train.values.reshape(-1, 28, 28, 1)\n",
        "X_test_cnn = X_test.values.reshape(-1, 28, 28, 1)\n",
        "y_train_cnn = to_categorical(y_train, 10)\n",
        "y_test_cnn = to_categorical(y_test, 10)\n",
        "\n",
        "# Создание модели CNN\n",
        "model_cnn = Sequential([\n",
        "    Conv2D(32, kernel_size=(3, 3), activation='relu', input_shape=(28, 28, 1)),\n",
        "    MaxPooling2D(pool_size=(2, 2)),\n",
        "    Dropout(0.25),\n",
        "    Conv2D(64, kernel_size=(3, 3), activation='relu'),\n",
        "    MaxPooling2D(pool_size=(2, 2)),\n",
        "    Dropout(0.25),\n",
        "    Flatten(),\n",
        "    Dense(128, activation='relu'),\n",
        "    Dropout(0.5),\n",
        "    Dense(10, activation='softmax')\n",
        "])\n",
        "\n",
        "# Компиляция и обучение модели CNN\n",
        "model_cnn.compile(optimizer='adam', loss='categorical_crossentropy', metrics=['accuracy'])\n",
        "model_cnn.fit(X_train_cnn, y_train_cnn, epochs=10, batch_size=32, validation_split=0.2)\n",
        "\n",
        "# Оценка модели на тестовой выборке\n",
        "loss_cnn, accuracy_cnn = model_cnn.evaluate(X_test_cnn, y_test_cnn)\n",
        "\n",
        "print(f'Accuracy of CNN: {accuracy_cnn:.4f}')\n",
        "```\n",
        "\n",
        "### Заключение\n",
        "\n",
        "В этом задании мы реализовали три различных подхода к классификации изображений рукописных цифр с использованием средств машинного обучения (k-NN), глубокого обучения (MLP) и нейронных сетей (CNN). Мы увидели, что каждый из этих подходов имеет свои преимущества и недостатки, и что сложные модели глубокого обучения могут значительно улучшить точность классификации по сравнению с простыми моделями машинного обучения.\n",
        "\n",
        "### Теоритические вопросы\n",
        "\n",
        "1. Какие преимущества и недостатки использованных методов вы увидели?\n",
        "2. В чем, на ваш взгляд, заключается принципиальная разница между многослойным перцептроном и сверточной нейронной сетью?\n",
        "3. Какие методы предобработки данных были использованы в этом задании?\n"
      ],
      "metadata": {
        "id": "vGMR-kTge1Wr"
      }
    },
    {
      "cell_type": "code",
      "execution_count": null,
      "metadata": {
        "id": "PDsO7Qm5e0px"
      },
      "outputs": [],
      "source": [
        "#Создайте необходимое количество кодовых ячеек и исполните в них приведенный выше код"
      ]
    }
  ]
}